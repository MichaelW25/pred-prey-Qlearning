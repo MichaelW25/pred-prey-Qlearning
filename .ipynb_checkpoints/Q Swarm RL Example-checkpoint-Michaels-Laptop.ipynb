{
 "cells": [
  {
   "cell_type": "code",
   "execution_count": 1,
   "id": "bcc3fab6",
   "metadata": {},
   "outputs": [],
   "source": [
    "import numpy as np\n",
    "import matplotlib.pyplot as plt\n",
    "import matplotlib.patches as patches\n",
    "import matplotlib.animation as animation\n",
    "\n",
    "import time\n",
    "import random"
   ]
  },
  {
   "cell_type": "markdown",
   "id": "f2fb4136",
   "metadata": {},
   "source": [
    "## Environments (Planet)"
   ]
  },
  {
   "cell_type": "code",
   "execution_count": 2,
   "id": "6d43e116",
   "metadata": {},
   "outputs": [],
   "source": [
    "# U D L R\n",
    "ACTIONS = {0: (-1, 0), 1: (1, 0), 2: (0, -1), 3: (0, 1)}\n",
    "class Planet(object):\n",
    "    def __init__(self):\n",
    "        # start with defining your planet\n",
    "        self.planet = np.zeros((6, 6))\n",
    "        #POIs\n",
    "        self.planet[5, 5] = 3\n",
    "        self.planet[4, 3] = 3\n",
    "        self.planet[2, 1] = 3\n",
    "        #Robots\n",
    "        self.planet[1, 2] = 2\n",
    "        self.planet[3, 3] = 2\n",
    "        self.planet[0, 4] = 2\n",
    "        #Traps\n",
    "        self.planet[3, 4] = 1\n",
    "        self.planet[4, 2] = 1\n",
    "        self.planet[0, 2] = 1\n",
    "        self.planet[2, 0] = 1\n",
    "        \n",
    "        self.robot_positions = [(1,2),(3,3),(0,4)]\n",
    "        self.robot_0_done = False\n",
    "        self.robot_1_done = False\n",
    "        self.robot_2_done = False\n",
    "        self.steps = 0 # contains num steps robot took\n",
    "        self.allowed_states = None # for now, this is none\n",
    "        self.construct_allowed_states() \n",
    "    def is_allowed_move(self, state, action):\n",
    "        y, x = state\n",
    "        y += ACTIONS[action][0]\n",
    "        x += ACTIONS[action][1]\n",
    "        # moving off the board\n",
    "        if y < 0 or x < 0 or y > 5 or x > 5:\n",
    "             return False\n",
    "        # moving into empty space or POI\n",
    "        if self.planet[y, x] == 0 or self.planet[y, x] == 3:\n",
    "            return True\n",
    "        else:\n",
    "            return False\n",
    "    def construct_allowed_states(self):\n",
    "        allowed_states = {}\n",
    "        for y, row in enumerate(self.planet):\n",
    "            for x, col in enumerate(row):\n",
    "                # iterate through all valid spaces\n",
    "                if self.planet[(y,x)] != 1:\n",
    "                    allowed_states[(y,x)] = []\n",
    "                    for action in ACTIONS:\n",
    "                        if self.is_allowed_move((y, x), action):\n",
    "                            allowed_states[(y,x)].append(action)\n",
    "        self.allowed_states = allowed_states\n",
    "    def update_planet(self, action, robot_num):\n",
    "        y, x = self.robot_positions[robot_num]\n",
    "        old_y, old_x = self.robot_positions[robot_num]\n",
    "        y += ACTIONS[action][0]\n",
    "        x += ACTIONS[action][1]\n",
    "        if self.planet[y, x] != 2:\n",
    "            self.planet[old_y, old_x] = 0\n",
    "            self.robot_positions[robot_num] = (y, x)\n",
    "            self.planet[y, x] = 2        \n",
    "    def is_game_over(self):\n",
    "        if self.robot_0_done == True and self.robot_1_done == True and self.robot_2_done == True:\n",
    "            return True\n",
    "        return False\n",
    "    def give_reward(self, state_history, robot_num):\n",
    "        location = self.robot_positions[robot_num]\n",
    "        if robot_num == 0 and location == (2,1):\n",
    "            self.robot_0_done = True\n",
    "            return 1\n",
    "        elif robot_num == 1 and location == (4,3):\n",
    "            self.robot_1_done = True\n",
    "            return 1\n",
    "        elif robot_num == 2 and location == (5,5):\n",
    "            self.robot_2_done = True\n",
    "            return 1\n",
    "        else:\n",
    "            return 0\n",
    "    def get_state_and_reward(self, state_history, robot_num):\n",
    "        return self.robot_positions[robot_num], self.give_reward(state_history, robot_num)\n",
    "    def simulate(self):\n",
    "        \n",
    "        return self.planet"
   ]
  },
  {
   "cell_type": "markdown",
   "id": "4b7482fe",
   "metadata": {},
   "source": [
    "## Agent Class (Robots)"
   ]
  },
  {
   "cell_type": "code",
   "execution_count": 3,
   "id": "2249e401",
   "metadata": {},
   "outputs": [],
   "source": [
    "# U D L R\n",
    "ACTIONS = {0: (-1, 0), 1: (1, 0), 2: (0, -1), 3: (0, 1)}\n",
    "class Agent(object):\n",
    "    def __init__(self, states, alpha=0.15, random_factor=0.2, robot_num=9):\n",
    "        self.state_history = [((0, 0), 0, 0, (0, 0))] # state, reward, action, next_state\n",
    "        self.alpha = alpha\n",
    "        self.random_factor = random_factor\n",
    "        self.robot_num = robot_num\n",
    "        \n",
    "        # start the rewards table\n",
    "        self.qtable = np.random.rand(36, 4).tolist()\n",
    "        self.G = {}\n",
    "        self.init_reward(states)\n",
    "    def init_reward(self, states):\n",
    "        for i, row in enumerate(states):\n",
    "            for j, col in enumerate(row):\n",
    "                self.G[(j,i)] = np.random.uniform(high=1.0, low=0.9)\n",
    "    def update_state_history(self, state, reward, action, next_state):\n",
    "        self.state_history.append((state, reward, action, next_state))\n",
    "    def learn(self):\n",
    "        target = 0 # we know the \"ideal\" reward\n",
    "        a = self.alpha\n",
    "        for state, reward, action, next_state in reversed(self.state_history):\n",
    "            y, x = state\n",
    "            state_index = (y * 5) + x\n",
    "            Ny, Nx = next_state\n",
    "            next_state_index = (Ny * 5) + Nx\n",
    "            self.qtable[state_index][action] = reward + a * max(self.qtable[next_state_index])\n",
    "            #self.G[state] = (1-a) * self.G[state] + a * target\n",
    "        self.state_history = [] # reset the state_history\n",
    "        self.random_factor -= 10e-5 # decrease random_factor\n",
    "    def choose_action(self, state, allowed_moves, state_history):\n",
    "        next_move = None\n",
    "        n = np.random.uniform()\n",
    "        if n < self.random_factor:\n",
    "            next_move = np.random.choice(allowed_moves)\n",
    "            valid = True\n",
    "        else:\n",
    "            maxG = -10e15 # some really small random number\n",
    "            y, x = state\n",
    "            state_index = (y * 5) + x \n",
    "            next_move = self.qtable[state_index].index(max(self.qtable[state_index]))\n",
    "            if next_move in allowed_moves:\n",
    "                valid = True\n",
    "            else:\n",
    "                valid = False\n",
    "            \"\"\"\n",
    "            for action in allowed_moves:\n",
    "                new_state = tuple([sum(x) for x in zip(state, ACTIONS[action])])\n",
    "                y, x = new_state\n",
    "                new_state_index = (y * 5) + x\n",
    "                if self.qtable[new_state_index][action] >= maxG:\n",
    "                    next_move = action\n",
    "                    maxG = self.qtable[new_state_index][action]\n",
    "                    \"\"\"\n",
    "        return next_move, valid"
   ]
  },
  {
   "cell_type": "markdown",
   "id": "e9ddda54",
   "metadata": {},
   "source": [
    "## Learning Loop"
   ]
  },
  {
   "cell_type": "code",
   "execution_count": 4,
   "id": "05b5a4f2",
   "metadata": {},
   "outputs": [
    {
     "name": "stdout",
     "output_type": "stream",
     "text": [
      "0\n",
      "1000\n",
      "2000\n",
      "3000\n",
      "4000\n"
     ]
    },
    {
     "data": {
      "image/png": "[encoded data removed]",
      "text/plain": [
       "<Figure size 1296x720 with 1 Axes>"
      ]
     },
     "metadata": {
      "needs_background": "light"
     },
     "output_type": "display_data"
    }
   ],
   "source": [
    "if __name__ == '__main__':  \n",
    "    planet = Planet()\n",
    "    robot_0 = Agent(planet.planet, alpha=0.1, random_factor=0.35, robot_num=0)\n",
    "    robot_1 = Agent(planet.planet, alpha=0.1, random_factor=0.35, robot_num=1)\n",
    "    robot_2 = Agent(planet.planet, alpha=0.1, random_factor=0.35, robot_num=2)\n",
    "    swarm = [robot_0, robot_1, robot_2]\n",
    "    moveHistory = []\n",
    "    for i in range(5000):\n",
    "        if i % 1000 == 0:            \n",
    "            print(i)\n",
    "         \n",
    "        test = False\n",
    "        while not planet.is_game_over():\n",
    "            n = 0\n",
    "            while n < 3:\n",
    "                robot = swarm[n]\n",
    "                if not ((n == 0 and planet.robot_0_done == True) or (n == 1 and planet.robot_1_done == True) or (n == 2 and planet.robot_2_done == True)):\n",
    "                    sHistory = robot.state_history\n",
    "                    state, _ = planet.get_state_and_reward(sHistory, robot.robot_num) # get the current state\n",
    "                    action, valid = robot.choose_action(state, planet.allowed_states[state], sHistory) # choose an action (explore or exploit)\n",
    "                    if valid:\n",
    "                        planet.update_planet(action, robot.robot_num) # update the planet according to the action\n",
    "                    next_state, reward = planet.get_state_and_reward(sHistory, robot.robot_num) # get the new state and reward\n",
    "                    \n",
    "                    \"\"\"\n",
    "                    y, x = state\n",
    "                    state_index = (y * 5) + x\n",
    "                    Ny, Nx = next_state\n",
    "                    next_state_index = (Ny * 5) + Nx\n",
    "                    robot.qtable[state_index][action] = reward + 0.001 * max(robot.qtable[next_state_index])\n",
    "                    \"\"\"                    \n",
    "                    robot.update_state_history(state, reward, action, next_state) # update the robot memory with state and reward\n",
    "                n += 1\n",
    "            planet.steps += 1\n",
    "            if planet.steps > 2000:\n",
    "                # end the robot if it takes too long to find the goal\n",
    "                test = True\n",
    "                planet.robot_0_done = True\n",
    "                planet.robot_1_done = True\n",
    "                planet.robot_2_done = True          \n",
    "            \n",
    "        # robot should learn after every episode\n",
    "        m = 0\n",
    "        while m < 3:\n",
    "            robot = swarm[m]\n",
    "            robot.learn()\n",
    "            m += 1\n",
    "        moveHistory.append(planet.steps) # get a history of number of steps taken to plot later\n",
    "        planet = Planet() # reinitialize the planet\n",
    "        \n",
    "plt.figure(figsize=(18, 10))\n",
    "plt.semilogy(moveHistory, color=\"b\")\n",
    "plt.show()"
   ]
  },
  {
   "cell_type": "markdown",
   "id": "07dd8064",
   "metadata": {},
   "source": [
    "## Testing and Simulation"
   ]
  },
  {
   "cell_type": "code",
   "execution_count": 5,
   "id": "689d2f0e",
   "metadata": {},
   "outputs": [
    {
     "name": "stdout",
     "output_type": "stream",
     "text": [
      "0\n"
     ]
    },
    {
     "data": {
      "image/png": "[encoded data removed]",
      "text/plain": [
       "<Figure size 432x288 with 1 Axes>"
      ]
     },
     "metadata": {
      "needs_background": "light"
     },
     "output_type": "display_data"
    },
    {
     "name": "stdout",
     "output_type": "stream",
     "text": [
      "0\n",
      "0\n"
     ]
    },
    {
     "data": {
      "image/png": "[encoded data removed]",
      "text/plain": [
       "<Figure size 432x288 with 1 Axes>"
      ]
     },
     "metadata": {
      "needs_background": "light"
     },
     "output_type": "display_data"
    }
   ],
   "source": [
    "testHistory = []\n",
    "for i in range(1):\n",
    "        if i % 100 == 0:            \n",
    "            print(i)\n",
    "        \n",
    "        planet = Planet()\n",
    "        tx, ty, px, py, rx, ry, x_history, y_history = [], [], [], [], [], [], [], []\n",
    "        \n",
    "        for y, row in enumerate(planet.planet):\n",
    "            for x, col in enumerate(row):\n",
    "                if planet.planet[(y,x)] == 1:\n",
    "                    tx.append(x)\n",
    "                    ty.append(y)\n",
    "                if planet.planet[(y,x)] == 3:\n",
    "                    px.append(x)\n",
    "                    py.append(y)\n",
    "                if planet.planet[(y,x)] == 2:\n",
    "                    rx.append(x)\n",
    "                    ry.append(y)\n",
    "        x_history.append(rx)\n",
    "        y_history.append(ry)\n",
    "        plt.scatter(rx, ry, marker = 'o', color = 'g') \n",
    "        plt.scatter(tx, ty, marker = 'x', color = 'r') \n",
    "        plt.scatter(px, py, marker = '*', color = 'y') \n",
    "        plt.show()\n",
    "                \n",
    "        while not planet.is_game_over():\n",
    "            n = 0\n",
    "            while n < 3:\n",
    "                robot = swarm[n]\n",
    "                if not ((n == 0 and planet.robot_0_done == True) or (n == 1 and planet.robot_1_done == True) or (n == 2 and planet.robot_2_done == True)):\n",
    "                    sHistory = robot.state_history\n",
    "                    state, _ = planet.get_state_and_reward(sHistory, robot.robot_num) # get the current state\n",
    "                    action, valid = robot.choose_action(state, planet.allowed_states[state], sHistory) # choose an action (explore or exploit)\n",
    "                    if valid:\n",
    "                        planet.update_planet(action, robot.robot_num) # update the planet according to the action\n",
    "                    next_state, reward = planet.get_state_and_reward(sHistory, robot.robot_num) # get the new state and reward\n",
    "                    robot.update_state_history(state, reward, action, next_state) # update the robot memory with state and reward\n",
    "                n += 1\n",
    "            planet.steps += 1\n",
    "            if planet.steps > 2000:\n",
    "                planet.robot_0_done = True\n",
    "                planet.robot_1_done = True\n",
    "                planet.robot_2_done = True\n",
    "            \n",
    "            \n",
    "            rx = []\n",
    "            ry = []\n",
    "            for y, row in enumerate(planet.planet):\n",
    "                for x, col in enumerate(row):\n",
    "                    if planet.planet[(y,x)] == 2:\n",
    "                        rx.append(x)\n",
    "                        ry.append(y)\n",
    "            x_history.append(rx)\n",
    "            y_history.append(ry)\n",
    "                                    \n",
    "        testHistory.append(planet.steps) # get a history of number of steps taken to plot later\n",
    "        \n",
    "        fig, ax = plt.subplots()\n",
    "        ax.set_xlim([-1, 6])\n",
    "        ax.set_ylim([-1, 6])\n",
    "        \n",
    "        def animate(i):\n",
    "            if i % 10 == 0:            \n",
    "                print(i) \n",
    "            plt.clf()\n",
    "            plt.scatter(x_history[i], y_history[i], marker = 'o', color = 'g') \n",
    "            plt.scatter(tx, ty, marker = 'x', color = 'r') \n",
    "            plt.scatter(px, py, marker = '*', color = 'y') \n",
    "            return fig,\n",
    "\n",
    "        ani = animation.FuncAnimation(fig, animate, repeat=True,\n",
    "                                            frames=len(x_history) - 1, interval=500)        \n",
    "        # To save the animation using Pillow as a gif\n",
    "        writer = animation.PillowWriter(fps=5,\n",
    "                                     metadata=dict(artist='Me'),\n",
    "                                     bitrate=1800)\n",
    "        ani.save('path.gif', writer=writer)\n",
    "        plt.show()\n",
    "        "
   ]
  }
 ],
 "metadata": {
  "kernelspec": {
   "display_name": "Python 3",
   "language": "python",
   "name": "python3"
  },
  "language_info": {
   "codemirror_mode": {
    "name": "ipython",
    "version": 3
   },
   "file_extension": ".py",
   "mimetype": "text/x-python",
   "name": "python",
   "nbconvert_exporter": "python",
   "pygments_lexer": "ipython3",
   "version": "3.8.8"
  }
 },
 "nbformat": 4,
 "nbformat_minor": 5
}
